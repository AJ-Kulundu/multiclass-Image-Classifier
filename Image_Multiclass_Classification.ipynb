{
  "nbformat": 4,
  "nbformat_minor": 0,
  "metadata": {
    "colab": {
      "name": "Image_Multiclass_Classification.ipynb",
      "provenance": []
    },
    "kernelspec": {
      "name": "python3",
      "display_name": "Python 3"
    },
    "language_info": {
      "name": "python"
    },
    "accelerator": "GPU"
  },
  "cells": [
    {
      "cell_type": "markdown",
      "metadata": {
        "id": "w_RJgjhy4n9x"
      },
      "source": [
        "##Group 15\n",
        "\n",
        "Arnold Kulundu -104896\n",
        "\n",
        "Adam Boru - 113229\n",
        "\n",
        "Gideon Longishu - 111356\n",
        "\n",
        "Melvin Ngure - 110497"
      ]
    },
    {
      "cell_type": "markdown",
      "metadata": {
        "id": "Rmudm5BF58FV"
      },
      "source": [
        "# Project Description\n",
        "This is an image proceesing Artificial Neural Network. The ANN is a multiclass classification model which is supposed to classify between a range of ten clothing items. The dataset is imported from keras(link to dataset: https://keras.io/api/datasets/fashion_mnist/). The model uses Keras library to compile and train the model. The model is a sequential model which leverages the keras sequential api."
      ]
    },
    {
      "cell_type": "markdown",
      "metadata": {
        "id": "mUtGIWJTXL-3"
      },
      "source": [
        "#Libraries"
      ]
    },
    {
      "cell_type": "code",
      "metadata": {
        "id": "o7nFWeFx2sb8"
      },
      "source": [
        "from tensorflow import keras\n",
        "import matplotlib.pyplot as plt\n",
        "import pandas as pd\n",
        "import numpy as np\n",
        "import pydot\n",
        "from keras.models import Sequential\n",
        "from keras.layers import Dense,Flatten"
      ],
      "execution_count": 1,
      "outputs": []
    },
    {
      "cell_type": "markdown",
      "metadata": {
        "id": "jIqVxOUzXKiD"
      },
      "source": [
        "# Data upload"
      ]
    },
    {
      "cell_type": "code",
      "metadata": {
        "id": "vmKGYrqP5MUk"
      },
      "source": [
        "data = keras.datasets.fashion_mnist"
      ],
      "execution_count": 2,
      "outputs": []
    },
    {
      "cell_type": "markdown",
      "metadata": {
        "id": "F-UPK0S2Xjyk"
      },
      "source": [
        "The data contains over 70,000 images of clothing items which are "
      ]
    },
    {
      "cell_type": "markdown",
      "metadata": {
        "id": "-x06GGavXcCr"
      },
      "source": [
        "#Data Preprocessing"
      ]
    },
    {
      "cell_type": "code",
      "metadata": {
        "id": "y2blLEWYXiFD",
        "colab": {
          "base_uri": "https://localhost:8080/"
        },
        "outputId": "31c3d5bd-29f3-484b-8460-cd6d85d0d1be"
      },
      "source": [
        "#Train-test data split\n",
        "\n",
        "(x_train_full,y_train_full),(x_test,y_test) = data.load_data()"
      ],
      "execution_count": 3,
      "outputs": [
        {
          "output_type": "stream",
          "text": [
            "Downloading data from https://storage.googleapis.com/tensorflow/tf-keras-datasets/train-labels-idx1-ubyte.gz\n",
            "32768/29515 [=================================] - 0s 0us/step\n",
            "40960/29515 [=========================================] - 0s 0us/step\n",
            "Downloading data from https://storage.googleapis.com/tensorflow/tf-keras-datasets/train-images-idx3-ubyte.gz\n",
            "26427392/26421880 [==============================] - 0s 0us/step\n",
            "26435584/26421880 [==============================] - 0s 0us/step\n",
            "Downloading data from https://storage.googleapis.com/tensorflow/tf-keras-datasets/t10k-labels-idx1-ubyte.gz\n",
            "16384/5148 [===============================================================================================] - 0s 0us/step\n",
            "Downloading data from https://storage.googleapis.com/tensorflow/tf-keras-datasets/t10k-images-idx3-ubyte.gz\n",
            "4423680/4422102 [==============================] - 0s 0us/step\n",
            "4431872/4422102 [==============================] - 0s 0us/step\n"
          ],
          "name": "stdout"
        }
      ]
    },
    {
      "cell_type": "code",
      "metadata": {
        "colab": {
          "base_uri": "https://localhost:8080/"
        },
        "id": "Gp8z69a9Ggue",
        "outputId": "0650928b-7672-4028-a3bc-8cdb2a2686fb"
      },
      "source": [
        "len(x_train_full)"
      ],
      "execution_count": 4,
      "outputs": [
        {
          "output_type": "execute_result",
          "data": {
            "text/plain": [
              "60000"
            ]
          },
          "metadata": {},
          "execution_count": 4
        }
      ]
    },
    {
      "cell_type": "code",
      "metadata": {
        "colab": {
          "base_uri": "https://localhost:8080/",
          "height": 282
        },
        "id": "NlM_S05_X-_f",
        "outputId": "efb79217-fea2-4759-98cb-0bceb821b84d"
      },
      "source": [
        "plt.imshow(x_train_full[11])"
      ],
      "execution_count": 5,
      "outputs": [
        {
          "output_type": "execute_result",
          "data": {
            "text/plain": [
              "<matplotlib.image.AxesImage at 0x7f670f841c10>"
            ]
          },
          "metadata": {},
          "execution_count": 5
        },
        {
          "output_type": "display_data",
          "data": {
            "image/png": "[encoded data removed]",
            "text/plain": [
              "<Figure size 432x288 with 1 Axes>"
            ]
          },
          "metadata": {
            "needs_background": "light"
          }
        }
      ]
    },
    {
      "cell_type": "code",
      "metadata": {
        "id": "hYgByMtMY8nM"
      },
      "source": [
        "# The class_name list is a list of the labels in the dataset arranged in the order they are respectively in the dataset\n",
        "class_name = [\"T-shirt/top\", \"Trouser\", \"Pullover\", \"Dress\", \"Coat\",\n",
        "               \"Sandal\", \"Shirt\", \"Sneaker\", \"Bag\", \"Ankle boot\"]"
      ],
      "execution_count": 6,
      "outputs": []
    },
    {
      "cell_type": "code",
      "metadata": {
        "colab": {
          "base_uri": "https://localhost:8080/"
        },
        "id": "3a0CsxtvZzTG",
        "outputId": "9f99f93c-b203-4a8b-ec02-1e4f2c7d817b"
      },
      "source": [
        "y_train_full[11]"
      ],
      "execution_count": 7,
      "outputs": [
        {
          "output_type": "execute_result",
          "data": {
            "text/plain": [
              "9"
            ]
          },
          "metadata": {},
          "execution_count": 7
        }
      ]
    },
    {
      "cell_type": "code",
      "metadata": {
        "colab": {
          "base_uri": "https://localhost:8080/",
          "height": 35
        },
        "id": "-yDzlks0aWte",
        "outputId": "793126ef-26c9-4bbd-f935-e3091d5515c4"
      },
      "source": [
        "class_name[y_train_full[11]]"
      ],
      "execution_count": 8,
      "outputs": [
        {
          "output_type": "execute_result",
          "data": {
            "application/vnd.google.colaboratory.intrinsic+json": {
              "type": "string"
            },
            "text/plain": [
              "'Ankle boot'"
            ]
          },
          "metadata": {},
          "execution_count": 8
        }
      ]
    },
    {
      "cell_type": "code",
      "metadata": {
        "id": "XAXlFZOPbGN9",
        "colab": {
          "base_uri": "https://localhost:8080/"
        },
        "outputId": "035d97be-1d08-4728-ec9a-5708be4aa6ad"
      },
      "source": [
        "x_train_full[11]"
      ],
      "execution_count": 9,
      "outputs": [
        {
          "output_type": "execute_result",
          "data": {
            "text/plain": [
              "array([[  0,   0,   0,   0,   0,   0,   0,   0,   0,   0,   0,   0,   0,\n",
              "          0,  39, 111,  93,  85,  27,   0,   0,   0,   0,   0,   1,   0,\n",
              "          0,   0],\n",
              "       [  0,   0,   0,   0,   0,   0,   0,   0,   0,   0,   0,   1,   0,\n",
              "          0, 190, 244, 248, 255, 255, 155, 202, 212, 150,   9,   0,   3,\n",
              "          0,   0],\n",
              "       [  0,   0,   0,   0,   0,   0,   0,   0,   0,   0,   0,   2,   0,\n",
              "          0, 213, 227, 233, 227, 243, 246, 255, 250, 255, 146,   0,   9,\n",
              "          0,   0],\n",
              "       [  0,   0,   0,   0,   0,   0,   0,   0,   0,   0,   0,   4,   0,\n",
              "          6, 244, 233, 236, 244, 232, 214, 248, 242, 251,  33,   0,   7,\n",
              "          0,   0],\n",
              "       [  0,   0,   0,   0,   0,   0,   0,   0,   0,   0,   1,   6,   0,\n",
              "         72, 255, 231, 239, 244, 237, 226, 255, 252, 207,  44,  24,   0,\n",
              "          2,   0],\n",
              "       [  0,   0,   0,   0,   0,   0,   0,   0,   0,   0,   0,   0,   0,\n",
              "        125, 231, 215, 253, 252, 234, 246, 254, 239, 128, 114,  63,   0,\n",
              "          3,   0],\n",
              "       [  0,   0,   0,   0,   0,   0,   0,   0,   0,   0,   1,   0,   0,\n",
              "        189, 230, 198, 185, 219, 218, 255, 206, 255, 133,  31,   0,   0,\n",
              "          0,   0],\n",
              "       [  0,   0,   0,   0,   0,   0,   0,   0,   0,   0,   4,   0,   0,\n",
              "        224, 241, 255, 236, 237, 223, 191, 219, 166,   0,   0,   1,   0,\n",
              "          0,   0],\n",
              "       [  0,   0,   0,   0,   0,   0,   0,   0,   0,   0,   1,   0,  61,\n",
              "        245, 202, 220, 237, 220, 242, 199, 255, 178,   0,   0,   1,   0,\n",
              "          0,   0],\n",
              "       [  0,   0,   0,   0,   0,   0,   0,   0,   0,   0,   0,   0, 153,\n",
              "        247, 205, 202, 212, 207, 225, 190, 255,  93, 141,   0,   0,   1,\n",
              "          0,   0],\n",
              "       [  0,   0,   0,   0,   0,   0,   0,   0,   0,   3,   0,   0, 222,\n",
              "        228, 233, 243, 248, 242, 242, 209, 255,   0,  90, 177,   0,   0,\n",
              "          0,   0],\n",
              "       [  0,   0,   0,   0,   0,   0,   0,   0,   0,   2,   0,  46, 255,\n",
              "        221, 235, 235, 213, 248, 220, 206, 255, 225,  28, 255,   0,   0,\n",
              "          0,   0],\n",
              "       [  0,   0,   0,   0,   0,   0,   0,   0,   0,   0,   0, 116, 250,\n",
              "        215, 227, 231, 226, 255, 195, 216, 250, 255, 159, 255, 160,   0,\n",
              "          0,   0],\n",
              "       [  0,   0,   0,   0,   0,   0,   0,   0,   3,   0,   7, 226, 202,\n",
              "        241, 247, 241, 228, 255, 175, 229, 252, 241, 255, 224, 224,  76,\n",
              "          0,   0],\n",
              "       [  0,   0,   0,   0,   0,   0,   0,   0,   0,   0, 131, 255, 210,\n",
              "        212, 251, 252, 229, 255, 175, 227, 254, 239, 245, 230, 223, 149,\n",
              "         90,   0],\n",
              "       [  0,   0,   0,   0,   0,   0,   0,   2,   0,   0, 227, 238, 238,\n",
              "        225, 205, 242, 246, 223, 187, 221, 254, 238, 255, 233, 156,   0,\n",
              "          0,   0],\n",
              "       [  0,   0,   0,   0,   0,   1,   0,   0,   0,  77, 255, 239, 248,\n",
              "        252, 237, 195, 201, 232, 190, 205, 252, 235, 255, 199,   0,   0,\n",
              "          0,   0],\n",
              "       [  0,   0,   0,   0,   0,   0,   0,   0,   0, 207, 223, 186, 215,\n",
              "        223, 255, 255, 217, 229, 254, 251, 244, 240, 255, 207,   0,   0,\n",
              "          1,   0],\n",
              "       [  0,   0,   0,   0,   0,   0,   2,   0,  53, 254, 234, 239, 222,\n",
              "        190, 187, 200, 250, 237, 195, 251, 250, 237, 253, 192,   0,   0,\n",
              "          0,   0],\n",
              "       [  0,   0,   0,   2,   4,   2,   0,   0, 190, 247, 233, 231, 250,\n",
              "        254, 247, 208, 208, 231, 226, 207, 246, 235, 248, 175,   0,   0,\n",
              "          0,   0],\n",
              "       [  0,   1,   6,   0,   0,   0,   0, 117, 245, 184, 242, 238, 235,\n",
              "        238, 244, 233, 255, 255,  99, 155, 255, 233, 252, 154,   0,   0,\n",
              "          0,   0],\n",
              "       [  0,   0,   0,   0,   3,  33, 141, 255, 197, 208, 184, 234, 246,\n",
              "        240, 243, 231, 255,  77,   0, 172, 255, 231, 253, 139,   0,   1,\n",
              "          0,   0],\n",
              "       [  0,   0,  84, 243, 246, 255, 254, 240, 241, 190, 229, 198, 243,\n",
              "        244, 238, 255,  80,   0,   0, 176, 255, 231, 252, 113,   0,   3,\n",
              "          0,   0],\n",
              "       [  0,  25, 223, 239, 230, 231, 231, 234, 241, 247, 191, 225, 230,\n",
              "        252, 255, 173,   0,   0,   0, 170, 255, 228, 251,  97,   0,   4,\n",
              "          0,   0],\n",
              "       [  0, 103, 241, 217, 228, 230, 238, 241, 238, 248, 244, 216, 172,\n",
              "        223, 255,   0,   0,   7,   0, 159, 255, 234, 251,  74,   0,   4,\n",
              "          0,   0],\n",
              "       [  0,   9, 188, 229, 242, 241, 243, 240, 236, 238, 241, 251, 237,\n",
              "        253,  64,   0,   0,   3,   0, 154, 255, 229, 255,  62,   0,   7,\n",
              "          0,   0],\n",
              "       [  0,   0,   0,  28, 123, 199, 249, 255, 255, 255, 255, 255, 245,\n",
              "         72,   0,   0,   0,   3,   0, 117, 255, 245, 220,  19,   0,   4,\n",
              "          0,   0],\n",
              "       [  0,   0,   0,   0,   0,   0,   0,  38,  72,  89,  71,  37,   0,\n",
              "          0,   0,   0,   0,   3,   0,   0,  64,  42,  24,   0,   0,   0,\n",
              "          0,   0]], dtype=uint8)"
            ]
          },
          "metadata": {},
          "execution_count": 9
        }
      ]
    },
    {
      "cell_type": "code",
      "metadata": {
        "id": "vEBdECtnaw32"
      },
      "source": [
        "# Normalization -  The data is normalised to fit all images onto the same scale (divided by 255.0 to return a floating point number)\n",
        "\n",
        "x_train_n = x_train_full/255.0\n",
        "x_test_n = x_test/255.0 "
      ],
      "execution_count": 10,
      "outputs": []
    },
    {
      "cell_type": "code",
      "metadata": {
        "id": "kuYKaDPCcE62"
      },
      "source": [
        "# Splitting the data further to add a validation set\n",
        "x_valid, x_train = x_train_n[:5000], x_train_n[5000:]\n",
        "y_valid, y_train = y_train_full[:5000], y_train_full[5000:]\n",
        "x_test = x_test_n"
      ],
      "execution_count": 11,
      "outputs": []
    },
    {
      "cell_type": "markdown",
      "metadata": {
        "id": "BQUFAflMdBTs"
      },
      "source": [
        "# Model Training and compiling"
      ]
    },
    {
      "cell_type": "code",
      "metadata": {
        "id": "MS9DBETYdUhW"
      },
      "source": [
        "model = Sequential()\n",
        "model.add(Flatten(input_shape = [28,28]))\n",
        "model.add(Dense(300,activation=\"relu\"))# Rectified Linear Unit(relu) is used to introduce non-linearity\n",
        "model.add(Dense(200,activation=\"relu\"))\n",
        "model.add(Dense(10,activation=\"softmax\")) #Softmax is used at the output layer for a neural network\n"
      ],
      "execution_count": 12,
      "outputs": []
    },
    {
      "cell_type": "code",
      "metadata": {
        "colab": {
          "base_uri": "https://localhost:8080/"
        },
        "id": "xFkjryxZgEbg",
        "outputId": "5fb13029-9680-460e-d5b4-89dfdcd8dd18"
      },
      "source": [
        "model.summary()"
      ],
      "execution_count": 13,
      "outputs": [
        {
          "output_type": "stream",
          "text": [
            "Model: \"sequential\"\n",
            "_________________________________________________________________\n",
            "Layer (type)                 Output Shape              Param #   \n",
            "=================================================================\n",
            "flatten (Flatten)            (None, 784)               0         \n",
            "_________________________________________________________________\n",
            "dense (Dense)                (None, 300)               235500    \n",
            "_________________________________________________________________\n",
            "dense_1 (Dense)              (None, 200)               60200     \n",
            "_________________________________________________________________\n",
            "dense_2 (Dense)              (None, 10)                2010      \n",
            "=================================================================\n",
            "Total params: 297,710\n",
            "Trainable params: 297,710\n",
            "Non-trainable params: 0\n",
            "_________________________________________________________________\n"
          ],
          "name": "stdout"
        }
      ]
    },
    {
      "cell_type": "code",
      "metadata": {
        "id": "4pIq2kCNhmir",
        "colab": {
          "base_uri": "https://localhost:8080/",
          "height": 466
        },
        "outputId": "148edd01-cdd8-4e2f-968e-1f923e1b97de"
      },
      "source": [
        "#Using Keras utils Library to show a diagramatic representation of the Model\n",
        "keras.utils.plot_model(model)"
      ],
      "execution_count": 14,
      "outputs": [
        {
          "output_type": "execute_result",
          "data": {
            "image/png": "[encoded data removed]",
            "text/plain": [
              "<IPython.core.display.Image object>"
            ]
          },
          "metadata": {},
          "execution_count": 14
        }
      ]
    },
    {
      "cell_type": "code",
      "metadata": {
        "id": "Z6foBFRRyV7c"
      },
      "source": [
        "# The weights and  biases of the input can be gotten using get_weights()\n",
        "weights, biases = model.layers[1].get_weights()"
      ],
      "execution_count": 15,
      "outputs": []
    },
    {
      "cell_type": "code",
      "metadata": {
        "colab": {
          "base_uri": "https://localhost:8080/"
        },
        "id": "s09lgD0Uz-VC",
        "outputId": "e96fbc9e-ced4-4058-d288-4fa7566bcc5d"
      },
      "source": [
        "weights.shape"
      ],
      "execution_count": 16,
      "outputs": [
        {
          "output_type": "execute_result",
          "data": {
            "text/plain": [
              "(784, 300)"
            ]
          },
          "metadata": {},
          "execution_count": 16
        }
      ]
    },
    {
      "cell_type": "code",
      "metadata": {
        "colab": {
          "base_uri": "https://localhost:8080/"
        },
        "id": "44p576-R0Q38",
        "outputId": "d8c747c3-2f7f-4ec1-919c-56aac37e8f46"
      },
      "source": [
        "biases.shape"
      ],
      "execution_count": 17,
      "outputs": [
        {
          "output_type": "execute_result",
          "data": {
            "text/plain": [
              "(300,)"
            ]
          },
          "metadata": {},
          "execution_count": 17
        }
      ]
    },
    {
      "cell_type": "code",
      "metadata": {
        "id": "9M72nBDABRcs"
      },
      "source": [
        "#Setting up the learning processes\n",
        "# The y-varible has more than two labels hence sparse categorical crossentropy is used\n",
        "# Stochastic Gradient Descent is the optimiser\n",
        "# The metrics used for a classifier is accuracy(MSE for regression)\n",
        "model.compile(loss=\"sparse_categorical_crossentropy\",\n",
        "              optimizer=\"sgd\",\n",
        "              metrics=[\"accuracy\"])"
      ],
      "execution_count": 18,
      "outputs": []
    },
    {
      "cell_type": "code",
      "metadata": {
        "colab": {
          "base_uri": "https://localhost:8080/"
        },
        "id": "z8plFU0pDfaC",
        "outputId": "bd8de27e-0c45-47c5-977a-357f12bee4d0"
      },
      "source": [
        "# Training the model\n",
        "# IPmodel = Image processing model\n",
        "IPmodel = model.fit(x_train, y_train, epochs=50, validation_data=(x_valid, y_valid))"
      ],
      "execution_count": 19,
      "outputs": [
        {
          "output_type": "stream",
          "text": [
            "Epoch 1/50\n",
            "1719/1719 [==============================] - 8s 3ms/step - loss: 0.7135 - accuracy: 0.7688 - val_loss: 0.5040 - val_accuracy: 0.8264\n",
            "Epoch 2/50\n",
            "1719/1719 [==============================] - 6s 3ms/step - loss: 0.4865 - accuracy: 0.8300 - val_loss: 0.4486 - val_accuracy: 0.8380\n",
            "Epoch 3/50\n",
            "1719/1719 [==============================] - 6s 3ms/step - loss: 0.4406 - accuracy: 0.8460 - val_loss: 0.4329 - val_accuracy: 0.8568\n",
            "Epoch 4/50\n",
            "1719/1719 [==============================] - 5s 3ms/step - loss: 0.4140 - accuracy: 0.8559 - val_loss: 0.3888 - val_accuracy: 0.8658\n",
            "Epoch 5/50\n",
            "1719/1719 [==============================] - 6s 3ms/step - loss: 0.3937 - accuracy: 0.8623 - val_loss: 0.3816 - val_accuracy: 0.8680\n",
            "Epoch 6/50\n",
            "1719/1719 [==============================] - 5s 3ms/step - loss: 0.3780 - accuracy: 0.8667 - val_loss: 0.3783 - val_accuracy: 0.8720\n",
            "Epoch 7/50\n",
            "1719/1719 [==============================] - 6s 3ms/step - loss: 0.3655 - accuracy: 0.8701 - val_loss: 0.3773 - val_accuracy: 0.8698\n",
            "Epoch 8/50\n",
            "1719/1719 [==============================] - 5s 3ms/step - loss: 0.3532 - accuracy: 0.8752 - val_loss: 0.3466 - val_accuracy: 0.8774\n",
            "Epoch 9/50\n",
            "1719/1719 [==============================] - 5s 3ms/step - loss: 0.3425 - accuracy: 0.8782 - val_loss: 0.3517 - val_accuracy: 0.8772\n",
            "Epoch 10/50\n",
            "1719/1719 [==============================] - 5s 3ms/step - loss: 0.3335 - accuracy: 0.8812 - val_loss: 0.3447 - val_accuracy: 0.8788\n",
            "Epoch 11/50\n",
            "1719/1719 [==============================] - 6s 3ms/step - loss: 0.3251 - accuracy: 0.8840 - val_loss: 0.3631 - val_accuracy: 0.8724\n",
            "Epoch 12/50\n",
            "1719/1719 [==============================] - 6s 3ms/step - loss: 0.3167 - accuracy: 0.8869 - val_loss: 0.3331 - val_accuracy: 0.8810\n",
            "Epoch 13/50\n",
            "1719/1719 [==============================] - 5s 3ms/step - loss: 0.3088 - accuracy: 0.8885 - val_loss: 0.3339 - val_accuracy: 0.8830\n",
            "Epoch 14/50\n",
            "1719/1719 [==============================] - 6s 3ms/step - loss: 0.3031 - accuracy: 0.8905 - val_loss: 0.3240 - val_accuracy: 0.8868\n",
            "Epoch 15/50\n",
            "1719/1719 [==============================] - 5s 3ms/step - loss: 0.2958 - accuracy: 0.8938 - val_loss: 0.3343 - val_accuracy: 0.8838\n",
            "Epoch 16/50\n",
            "1719/1719 [==============================] - 5s 3ms/step - loss: 0.2894 - accuracy: 0.8955 - val_loss: 0.3232 - val_accuracy: 0.8870\n",
            "Epoch 17/50\n",
            "1719/1719 [==============================] - 6s 3ms/step - loss: 0.2839 - accuracy: 0.8980 - val_loss: 0.3315 - val_accuracy: 0.8816\n",
            "Epoch 18/50\n",
            "1719/1719 [==============================] - 5s 3ms/step - loss: 0.2780 - accuracy: 0.9000 - val_loss: 0.3219 - val_accuracy: 0.8874\n",
            "Epoch 19/50\n",
            "1719/1719 [==============================] - 5s 3ms/step - loss: 0.2725 - accuracy: 0.9017 - val_loss: 0.3389 - val_accuracy: 0.8836\n",
            "Epoch 20/50\n",
            "1719/1719 [==============================] - 6s 3ms/step - loss: 0.2691 - accuracy: 0.9024 - val_loss: 0.3170 - val_accuracy: 0.8878\n",
            "Epoch 21/50\n",
            "1719/1719 [==============================] - 6s 3ms/step - loss: 0.2630 - accuracy: 0.9052 - val_loss: 0.3191 - val_accuracy: 0.8884\n",
            "Epoch 22/50\n",
            "1719/1719 [==============================] - 5s 3ms/step - loss: 0.2588 - accuracy: 0.9064 - val_loss: 0.3166 - val_accuracy: 0.8882\n",
            "Epoch 23/50\n",
            "1719/1719 [==============================] - 5s 3ms/step - loss: 0.2541 - accuracy: 0.9079 - val_loss: 0.3192 - val_accuracy: 0.8848\n",
            "Epoch 24/50\n",
            "1719/1719 [==============================] - 5s 3ms/step - loss: 0.2504 - accuracy: 0.9113 - val_loss: 0.3006 - val_accuracy: 0.8932\n",
            "Epoch 25/50\n",
            "1719/1719 [==============================] - 6s 3ms/step - loss: 0.2461 - accuracy: 0.9114 - val_loss: 0.3077 - val_accuracy: 0.8926\n",
            "Epoch 26/50\n",
            "1719/1719 [==============================] - 6s 3ms/step - loss: 0.2410 - accuracy: 0.9131 - val_loss: 0.3129 - val_accuracy: 0.8898\n",
            "Epoch 27/50\n",
            "1719/1719 [==============================] - 5s 3ms/step - loss: 0.2376 - accuracy: 0.9149 - val_loss: 0.2987 - val_accuracy: 0.8930\n",
            "Epoch 28/50\n",
            "1719/1719 [==============================] - 5s 3ms/step - loss: 0.2336 - accuracy: 0.9155 - val_loss: 0.3033 - val_accuracy: 0.8954\n",
            "Epoch 29/50\n",
            "1719/1719 [==============================] - 5s 3ms/step - loss: 0.2300 - accuracy: 0.9176 - val_loss: 0.2903 - val_accuracy: 0.8940\n",
            "Epoch 30/50\n",
            "1719/1719 [==============================] - 5s 3ms/step - loss: 0.2258 - accuracy: 0.9192 - val_loss: 0.3038 - val_accuracy: 0.8926\n",
            "Epoch 31/50\n",
            "1719/1719 [==============================] - 6s 3ms/step - loss: 0.2227 - accuracy: 0.9208 - val_loss: 0.2941 - val_accuracy: 0.8966\n",
            "Epoch 32/50\n",
            "1719/1719 [==============================] - 5s 3ms/step - loss: 0.2189 - accuracy: 0.9209 - val_loss: 0.3025 - val_accuracy: 0.8900\n",
            "Epoch 33/50\n",
            "1719/1719 [==============================] - 6s 3ms/step - loss: 0.2152 - accuracy: 0.9224 - val_loss: 0.3038 - val_accuracy: 0.8934\n",
            "Epoch 34/50\n",
            "1719/1719 [==============================] - 6s 3ms/step - loss: 0.2119 - accuracy: 0.9248 - val_loss: 0.2937 - val_accuracy: 0.8914\n",
            "Epoch 35/50\n",
            "1719/1719 [==============================] - 5s 3ms/step - loss: 0.2079 - accuracy: 0.9256 - val_loss: 0.2919 - val_accuracy: 0.8970\n",
            "Epoch 36/50\n",
            "1719/1719 [==============================] - 5s 3ms/step - loss: 0.2049 - accuracy: 0.9272 - val_loss: 0.2981 - val_accuracy: 0.8922\n",
            "Epoch 37/50\n",
            "1719/1719 [==============================] - 5s 3ms/step - loss: 0.2016 - accuracy: 0.9283 - val_loss: 0.2889 - val_accuracy: 0.8976\n",
            "Epoch 38/50\n",
            "1719/1719 [==============================] - 5s 3ms/step - loss: 0.1983 - accuracy: 0.9291 - val_loss: 0.2953 - val_accuracy: 0.8938\n",
            "Epoch 39/50\n",
            "1719/1719 [==============================] - 5s 3ms/step - loss: 0.1960 - accuracy: 0.9309 - val_loss: 0.2943 - val_accuracy: 0.8944\n",
            "Epoch 40/50\n",
            "1719/1719 [==============================] - 5s 3ms/step - loss: 0.1923 - accuracy: 0.9311 - val_loss: 0.3071 - val_accuracy: 0.8926\n",
            "Epoch 41/50\n",
            "1719/1719 [==============================] - 5s 3ms/step - loss: 0.1897 - accuracy: 0.9317 - val_loss: 0.3082 - val_accuracy: 0.8906\n",
            "Epoch 42/50\n",
            "1719/1719 [==============================] - 5s 3ms/step - loss: 0.1871 - accuracy: 0.9337 - val_loss: 0.3011 - val_accuracy: 0.8934\n",
            "Epoch 43/50\n",
            "1719/1719 [==============================] - 6s 3ms/step - loss: 0.1839 - accuracy: 0.9350 - val_loss: 0.2913 - val_accuracy: 0.8946\n",
            "Epoch 44/50\n",
            "1719/1719 [==============================] - 6s 3ms/step - loss: 0.1813 - accuracy: 0.9354 - val_loss: 0.3003 - val_accuracy: 0.8926\n",
            "Epoch 45/50\n",
            "1719/1719 [==============================] - 6s 3ms/step - loss: 0.1772 - accuracy: 0.9371 - val_loss: 0.2998 - val_accuracy: 0.8928\n",
            "Epoch 46/50\n",
            "1719/1719 [==============================] - 6s 3ms/step - loss: 0.1750 - accuracy: 0.9379 - val_loss: 0.3049 - val_accuracy: 0.8956\n",
            "Epoch 47/50\n",
            "1719/1719 [==============================] - 5s 3ms/step - loss: 0.1732 - accuracy: 0.9383 - val_loss: 0.2958 - val_accuracy: 0.8932\n",
            "Epoch 48/50\n",
            "1719/1719 [==============================] - 5s 3ms/step - loss: 0.1692 - accuracy: 0.9412 - val_loss: 0.3033 - val_accuracy: 0.8938\n",
            "Epoch 49/50\n",
            "1719/1719 [==============================] - 6s 3ms/step - loss: 0.1664 - accuracy: 0.9417 - val_loss: 0.3228 - val_accuracy: 0.8906\n",
            "Epoch 50/50\n",
            "1719/1719 [==============================] - 6s 3ms/step - loss: 0.1636 - accuracy: 0.9430 - val_loss: 0.2911 - val_accuracy: 0.8966\n"
          ],
          "name": "stdout"
        }
      ]
    },
    {
      "cell_type": "markdown",
      "metadata": {
        "id": "4qHXotZMR_ny"
      },
      "source": [
        "#Model Evaluation and Testing"
      ]
    },
    {
      "cell_type": "code",
      "metadata": {
        "colab": {
          "base_uri": "https://localhost:8080/"
        },
        "id": "0YtnqZhDHf4f",
        "outputId": "b859e0d6-26cf-4dcf-d789-86e51ab35052"
      },
      "source": [
        "IPmodel.params"
      ],
      "execution_count": 20,
      "outputs": [
        {
          "output_type": "execute_result",
          "data": {
            "text/plain": [
              "{'epochs': 50, 'steps': 1719, 'verbose': 1}"
            ]
          },
          "metadata": {},
          "execution_count": 20
        }
      ]
    },
    {
      "cell_type": "code",
      "metadata": {
        "colab": {
          "base_uri": "https://localhost:8080/"
        },
        "id": "_og8-5HEHqbJ",
        "outputId": "558d9c72-1a26-4469-c6b8-f2b2945f0bff"
      },
      "source": [
        "IPmodel.history"
      ],
      "execution_count": 21,
      "outputs": [
        {
          "output_type": "execute_result",
          "data": {
            "text/plain": [
              "{'accuracy': [0.768818199634552,\n",
              "  0.829981803894043,\n",
              "  0.8460000157356262,\n",
              "  0.8558545708656311,\n",
              "  0.8622545599937439,\n",
              "  0.8666909337043762,\n",
              "  0.8701090812683105,\n",
              "  0.8751817941665649,\n",
              "  0.8782363533973694,\n",
              "  0.8812000155448914,\n",
              "  0.8839818239212036,\n",
              "  0.8869090676307678,\n",
              "  0.8884727358818054,\n",
              "  0.8905454277992249,\n",
              "  0.8938363790512085,\n",
              "  0.8954545259475708,\n",
              "  0.8980363607406616,\n",
              "  0.8999817967414856,\n",
              "  0.9016727209091187,\n",
              "  0.902363657951355,\n",
              "  0.9052363634109497,\n",
              "  0.9064000248908997,\n",
              "  0.907909095287323,\n",
              "  0.9112908840179443,\n",
              "  0.9114363789558411,\n",
              "  0.9131454825401306,\n",
              "  0.9149090647697449,\n",
              "  0.9155454635620117,\n",
              "  0.9175636172294617,\n",
              "  0.9191636443138123,\n",
              "  0.9207636117935181,\n",
              "  0.9209091067314148,\n",
              "  0.9223818182945251,\n",
              "  0.9247636198997498,\n",
              "  0.9256181716918945,\n",
              "  0.9272181987762451,\n",
              "  0.9282909035682678,\n",
              "  0.9290545582771301,\n",
              "  0.9308545589447021,\n",
              "  0.9310545325279236,\n",
              "  0.9317454695701599,\n",
              "  0.9337454438209534,\n",
              "  0.9349818229675293,\n",
              "  0.9353818297386169,\n",
              "  0.9371272921562195,\n",
              "  0.9379454255104065,\n",
              "  0.9383454322814941,\n",
              "  0.9411636590957642,\n",
              "  0.9416727423667908,\n",
              "  0.9429636597633362],\n",
              " 'loss': [0.7134783267974854,\n",
              "  0.4864751994609833,\n",
              "  0.440623939037323,\n",
              "  0.41398727893829346,\n",
              "  0.39367955923080444,\n",
              "  0.37799060344696045,\n",
              "  0.36547431349754333,\n",
              "  0.3532353639602661,\n",
              "  0.3425435721874237,\n",
              "  0.3335146903991699,\n",
              "  0.32509705424308777,\n",
              "  0.31671860814094543,\n",
              "  0.3087863028049469,\n",
              "  0.30312371253967285,\n",
              "  0.2957598865032196,\n",
              "  0.2893871068954468,\n",
              "  0.2838570475578308,\n",
              "  0.27798518538475037,\n",
              "  0.272458553314209,\n",
              "  0.2690856158733368,\n",
              "  0.2629673480987549,\n",
              "  0.2588142454624176,\n",
              "  0.2540874481201172,\n",
              "  0.2503931224346161,\n",
              "  0.2461031824350357,\n",
              "  0.2409646064043045,\n",
              "  0.2375682145357132,\n",
              "  0.2336462289094925,\n",
              "  0.23002517223358154,\n",
              "  0.22577515244483948,\n",
              "  0.2227391004562378,\n",
              "  0.21894748508930206,\n",
              "  0.21520014107227325,\n",
              "  0.2119312733411789,\n",
              "  0.2078714668750763,\n",
              "  0.20485171675682068,\n",
              "  0.2015659064054489,\n",
              "  0.1983145773410797,\n",
              "  0.19603943824768066,\n",
              "  0.19233033061027527,\n",
              "  0.18974733352661133,\n",
              "  0.18710587918758392,\n",
              "  0.1839408129453659,\n",
              "  0.18132014572620392,\n",
              "  0.17718350887298584,\n",
              "  0.17496834695339203,\n",
              "  0.17324751615524292,\n",
              "  0.16916143894195557,\n",
              "  0.1664041429758072,\n",
              "  0.16359472274780273],\n",
              " 'val_accuracy': [0.8263999819755554,\n",
              "  0.8379999995231628,\n",
              "  0.8568000197410583,\n",
              "  0.8658000230789185,\n",
              "  0.8679999709129333,\n",
              "  0.871999979019165,\n",
              "  0.8697999715805054,\n",
              "  0.8773999810218811,\n",
              "  0.8772000074386597,\n",
              "  0.8787999749183655,\n",
              "  0.8723999857902527,\n",
              "  0.8809999823570251,\n",
              "  0.8830000162124634,\n",
              "  0.8867999911308289,\n",
              "  0.8838000297546387,\n",
              "  0.8870000243186951,\n",
              "  0.881600022315979,\n",
              "  0.8873999714851379,\n",
              "  0.8835999965667725,\n",
              "  0.8877999782562256,\n",
              "  0.8884000182151794,\n",
              "  0.8881999850273132,\n",
              "  0.8848000168800354,\n",
              "  0.8931999802589417,\n",
              "  0.8925999999046326,\n",
              "  0.8898000121116638,\n",
              "  0.8930000066757202,\n",
              "  0.8953999876976013,\n",
              "  0.8939999938011169,\n",
              "  0.8925999999046326,\n",
              "  0.8966000080108643,\n",
              "  0.8899999856948853,\n",
              "  0.8934000134468079,\n",
              "  0.8913999795913696,\n",
              "  0.8970000147819519,\n",
              "  0.8921999931335449,\n",
              "  0.897599995136261,\n",
              "  0.8938000202178955,\n",
              "  0.8944000005722046,\n",
              "  0.8925999999046326,\n",
              "  0.8906000256538391,\n",
              "  0.8934000134468079,\n",
              "  0.894599974155426,\n",
              "  0.8925999999046326,\n",
              "  0.892799973487854,\n",
              "  0.8956000208854675,\n",
              "  0.8931999802589417,\n",
              "  0.8938000202178955,\n",
              "  0.8906000256538391,\n",
              "  0.8966000080108643],\n",
              " 'val_loss': [0.504006028175354,\n",
              "  0.44861575961112976,\n",
              "  0.4328516721725464,\n",
              "  0.38883134722709656,\n",
              "  0.3815976679325104,\n",
              "  0.3783048689365387,\n",
              "  0.37733951210975647,\n",
              "  0.34655115008354187,\n",
              "  0.35172343254089355,\n",
              "  0.3447186350822449,\n",
              "  0.3631203770637512,\n",
              "  0.3331471085548401,\n",
              "  0.3339322507381439,\n",
              "  0.32396310567855835,\n",
              "  0.334320992231369,\n",
              "  0.3231695890426636,\n",
              "  0.33146822452545166,\n",
              "  0.32189124822616577,\n",
              "  0.33891990780830383,\n",
              "  0.31701555848121643,\n",
              "  0.3190619945526123,\n",
              "  0.3165687322616577,\n",
              "  0.31916192173957825,\n",
              "  0.30055609345436096,\n",
              "  0.3076556324958801,\n",
              "  0.3128836154937744,\n",
              "  0.2986854612827301,\n",
              "  0.30328643321990967,\n",
              "  0.2903088331222534,\n",
              "  0.3037988543510437,\n",
              "  0.2940880358219147,\n",
              "  0.3025418519973755,\n",
              "  0.3038313686847687,\n",
              "  0.29372116923332214,\n",
              "  0.29191339015960693,\n",
              "  0.29811033606529236,\n",
              "  0.28891444206237793,\n",
              "  0.2953360676765442,\n",
              "  0.29431435465812683,\n",
              "  0.3070751428604126,\n",
              "  0.30816876888275146,\n",
              "  0.301053911447525,\n",
              "  0.2913433909416199,\n",
              "  0.30026137828826904,\n",
              "  0.29981380701065063,\n",
              "  0.3048689067363739,\n",
              "  0.29580193758010864,\n",
              "  0.3033467233181,\n",
              "  0.3227950632572174,\n",
              "  0.291085422039032]}"
            ]
          },
          "metadata": {},
          "execution_count": 21
        }
      ]
    },
    {
      "cell_type": "code",
      "metadata": {
        "colab": {
          "base_uri": "https://localhost:8080/",
          "height": 378
        },
        "id": "3G9A-kUsH7Rh",
        "outputId": "b107098a-fac9-47e5-a2b2-eefaa8d3d3bb"
      },
      "source": [
        "# Using pandas library to put the history of models accuracy in to a format that can be plotted on a graph\n",
        "# Using matlpotlib.pyplot to plot the points on a graph\n",
        "pd.DataFrame(IPmodel.history).plot(figsize=[10,6])\n",
        "plt.grid(True)\n",
        "plt.gca().set_ylim(0, 1)\n",
        "#The diagram shows the way the model learned from the train set through every epoch \n",
        "plt.show()"
      ],
      "execution_count": 32,
      "outputs": [
        {
          "output_type": "display_data",
          "data": {
            "image/png": "[encoded data removed]",
            "text/plain": [
              "<Figure size 720x432 with 1 Axes>"
            ]
          },
          "metadata": {
            "needs_background": "light"
          }
        }
      ]
    },
    {
      "cell_type": "code",
      "metadata": {
        "colab": {
          "base_uri": "https://localhost:8080/"
        },
        "id": "aav1Oi4BIjl6",
        "outputId": "454f8f1b-b99c-4b56-93db-5cd63a97126b"
      },
      "source": [
        "model.evaluate(x_test,y_test)"
      ],
      "execution_count": 23,
      "outputs": [
        {
          "output_type": "stream",
          "text": [
            "313/313 [==============================] - 1s 3ms/step - loss: 0.3178 - accuracy: 0.8917\n"
          ],
          "name": "stdout"
        },
        {
          "output_type": "execute_result",
          "data": {
            "text/plain": [
              "[0.3177573084831238, 0.891700029373169]"
            ]
          },
          "metadata": {},
          "execution_count": 23
        }
      ]
    },
    {
      "cell_type": "code",
      "metadata": {
        "id": "CbsaZ3WOKSnk"
      },
      "source": [
        "# Picking a group of items in the test set for model prediction\n",
        "x_new = x_test[20:24]"
      ],
      "execution_count": 24,
      "outputs": []
    },
    {
      "cell_type": "code",
      "metadata": {
        "colab": {
          "base_uri": "https://localhost:8080/"
        },
        "id": "EywaIAXEKXn1",
        "outputId": "c595047c-cd87-4455-d0e7-2158db9d3951"
      },
      "source": [
        "#\n",
        "y_probability = model.predict(x_new)\n",
        "# returns the results rounded off to 2 decimal places\n",
        "y_probability.round(2)"
      ],
      "execution_count": 25,
      "outputs": [
        {
          "output_type": "execute_result",
          "data": {
            "text/plain": [
              "array([[0.01, 0.  , 0.99, 0.  , 0.  , 0.  , 0.  , 0.  , 0.  , 0.  ],\n",
              "       [0.  , 0.  , 0.  , 0.  , 0.  , 1.  , 0.  , 0.  , 0.  , 0.  ],\n",
              "       [0.  , 0.  , 0.  , 0.  , 0.  , 0.  , 0.  , 1.  , 0.  , 0.  ],\n",
              "       [0.  , 0.  , 0.  , 0.  , 0.  , 1.  , 0.  , 0.  , 0.  , 0.  ]],\n",
              "      dtype=float32)"
            ]
          },
          "metadata": {},
          "execution_count": 25
        }
      ]
    },
    {
      "cell_type": "code",
      "metadata": {
        "colab": {
          "base_uri": "https://localhost:8080/"
        },
        "id": "HdR4y-ThKgFz",
        "outputId": "d059b6f7-aee3-4bef-f905-3274fb11668e"
      },
      "source": [
        "#This is used to find the unique ID of the classes being predicted\n",
        "y_prediction = np.argmax(y_probability,axis=1)\n",
        "y_prediction"
      ],
      "execution_count": 26,
      "outputs": [
        {
          "output_type": "execute_result",
          "data": {
            "text/plain": [
              "array([2, 5, 7, 5])"
            ]
          },
          "metadata": {},
          "execution_count": 26
        }
      ]
    },
    {
      "cell_type": "code",
      "metadata": {
        "colab": {
          "base_uri": "https://localhost:8080/"
        },
        "id": "2UD1ZvKeKuMl",
        "outputId": "33409cff-6289-4964-eecd-312460822839"
      },
      "source": [
        "# np is used to loop throught the array to show the class names of the predicted labels\n",
        "np.array(class_name)[y_prediction]"
      ],
      "execution_count": 27,
      "outputs": [
        {
          "output_type": "execute_result",
          "data": {
            "text/plain": [
              "array(['Pullover', 'Sandal', 'Sneaker', 'Sandal'], dtype='<U11')"
            ]
          },
          "metadata": {},
          "execution_count": 27
        }
      ]
    },
    {
      "cell_type": "markdown",
      "metadata": {
        "id": "GGVCbzPl6l4j"
      },
      "source": [
        "#Test Verification\n",
        "This part is done to show whether the model did infact predict the right image. Pyplot imshow() function is used to show the images in the test set for verification."
      ]
    },
    {
      "cell_type": "code",
      "metadata": {
        "colab": {
          "base_uri": "https://localhost:8080/",
          "height": 282
        },
        "id": "t-mUU4FRM4GU",
        "outputId": "f6c21819-ad21-4979-b676-a137ef98beb3"
      },
      "source": [
        "print(plt.imshow(x_test[20]))"
      ],
      "execution_count": 28,
      "outputs": [
        {
          "output_type": "stream",
          "text": [
            "AxesImage(54,36;334.8x217.44)\n"
          ],
          "name": "stdout"
        },
        {
          "output_type": "display_data",
          "data": {
            "image/png": "[encoded data removed]",
            "text/plain": [
              "<Figure size 432x288 with 1 Axes>"
            ]
          },
          "metadata": {
            "needs_background": "light"
          }
        }
      ]
    },
    {
      "cell_type": "code",
      "metadata": {
        "colab": {
          "base_uri": "https://localhost:8080/",
          "height": 282
        },
        "id": "cdKH8dIlM_BN",
        "outputId": "87ec711f-1615-4199-9108-c3f7250ce8e9"
      },
      "source": [
        "print(plt.imshow(x_test[21]))"
      ],
      "execution_count": 29,
      "outputs": [
        {
          "output_type": "stream",
          "text": [
            "AxesImage(54,36;334.8x217.44)\n"
          ],
          "name": "stdout"
        },
        {
          "output_type": "display_data",
          "data": {
            "image/png": "[encoded data removed]",
            "text/plain": [
              "<Figure size 432x288 with 1 Axes>"
            ]
          },
          "metadata": {
            "needs_background": "light"
          }
        }
      ]
    },
    {
      "cell_type": "code",
      "metadata": {
        "colab": {
          "base_uri": "https://localhost:8080/",
          "height": 282
        },
        "id": "xx7UjjJ_ND87",
        "outputId": "7545a36c-6bbe-4222-9af9-a9e8690781de"
      },
      "source": [
        "print(plt.imshow(x_test[22]))"
      ],
      "execution_count": 31,
      "outputs": [
        {
          "output_type": "stream",
          "text": [
            "AxesImage(54,36;334.8x217.44)\n"
          ],
          "name": "stdout"
        },
        {
          "output_type": "display_data",
          "data": {
            "image/png": "[encoded data removed]",
            "text/plain": [
              "<Figure size 432x288 with 1 Axes>"
            ]
          },
          "metadata": {
            "needs_background": "light"
          }
        }
      ]
    }
  ]
}